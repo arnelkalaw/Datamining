{
 "cells": [
  {
   "cell_type": "code",
   "execution_count": 1,
   "id": "71113331",
   "metadata": {},
   "outputs": [],
   "source": [
    "# Cleints Segmentation Project\n",
    "#1. Assess the overall distribution of the data to Male vs. Female clients, as well as how their age and gender differ.\n",
    "#2. Evaluate which gender has a higher number of account opening.\n",
    "#3. Elvaluate which age group has the most account openings.\n",
    "\n",
    "import numpy as np\n",
    "import pandas as pd\n",
    "import seaborn as sns\n",
    "import matplotlib.pyplot as plt\n",
    "\n"
   ]
  },
  {
   "cell_type": "code",
   "execution_count": 2,
   "id": "3be9b108",
   "metadata": {},
   "outputs": [],
   "source": [
    "clients = pd.read_csv('C:\\data\\Testdata.csv')"
   ]
  },
  {
   "cell_type": "code",
   "execution_count": 3,
   "id": "d44feed2",
   "metadata": {
    "scrolled": true
   },
   "outputs": [
    {
     "data": {
      "text/html": [
       "<div>\n",
       "<style scoped>\n",
       "    .dataframe tbody tr th:only-of-type {\n",
       "        vertical-align: middle;\n",
       "    }\n",
       "\n",
       "    .dataframe tbody tr th {\n",
       "        vertical-align: top;\n",
       "    }\n",
       "\n",
       "    .dataframe thead th {\n",
       "        text-align: right;\n",
       "    }\n",
       "</style>\n",
       "<table border=\"1\" class=\"dataframe\">\n",
       "  <thead>\n",
       "    <tr style=\"text-align: right;\">\n",
       "      <th></th>\n",
       "      <th>Client_ID</th>\n",
       "      <th>Names</th>\n",
       "      <th>Gender</th>\n",
       "      <th>Age</th>\n",
       "    </tr>\n",
       "  </thead>\n",
       "  <tbody>\n",
       "    <tr>\n",
       "      <th>0</th>\n",
       "      <td>11044</td>\n",
       "      <td>Barigues Luz Bay Bedos</td>\n",
       "      <td>FEMALE</td>\n",
       "      <td>50</td>\n",
       "    </tr>\n",
       "    <tr>\n",
       "      <th>1</th>\n",
       "      <td>11048</td>\n",
       "      <td>Dolfo Arlene A.</td>\n",
       "      <td>FEMALE</td>\n",
       "      <td>31</td>\n",
       "    </tr>\n",
       "    <tr>\n",
       "      <th>2</th>\n",
       "      <td>11049</td>\n",
       "      <td>Barigues Daisy Generbes</td>\n",
       "      <td>FEMALE</td>\n",
       "      <td>56</td>\n",
       "    </tr>\n",
       "    <tr>\n",
       "      <th>3</th>\n",
       "      <td>11383</td>\n",
       "      <td>Lopez Shirley F.</td>\n",
       "      <td>FEMALE</td>\n",
       "      <td>31</td>\n",
       "    </tr>\n",
       "    <tr>\n",
       "      <th>4</th>\n",
       "      <td>11384</td>\n",
       "      <td>Delegencia Rosalinda D.</td>\n",
       "      <td>FEMALE</td>\n",
       "      <td>31</td>\n",
       "    </tr>\n",
       "  </tbody>\n",
       "</table>\n",
       "</div>"
      ],
      "text/plain": [
       "   Client_ID                    Names  Gender  Age\n",
       "0      11044   Barigues Luz Bay Bedos  FEMALE   50\n",
       "1      11048          Dolfo Arlene A.  FEMALE   31\n",
       "2      11049  Barigues Daisy Generbes  FEMALE   56\n",
       "3      11383         Lopez Shirley F.  FEMALE   31\n",
       "4      11384  Delegencia Rosalinda D.  FEMALE   31"
      ]
     },
     "execution_count": 3,
     "metadata": {},
     "output_type": "execute_result"
    }
   ],
   "source": [
    "clients.head()"
   ]
  },
  {
   "cell_type": "code",
   "execution_count": 4,
   "id": "99917b0b",
   "metadata": {},
   "outputs": [
    {
     "data": {
      "text/html": [
       "<div>\n",
       "<style scoped>\n",
       "    .dataframe tbody tr th:only-of-type {\n",
       "        vertical-align: middle;\n",
       "    }\n",
       "\n",
       "    .dataframe tbody tr th {\n",
       "        vertical-align: top;\n",
       "    }\n",
       "\n",
       "    .dataframe thead th {\n",
       "        text-align: right;\n",
       "    }\n",
       "</style>\n",
       "<table border=\"1\" class=\"dataframe\">\n",
       "  <thead>\n",
       "    <tr style=\"text-align: right;\">\n",
       "      <th></th>\n",
       "      <th>Client_ID</th>\n",
       "      <th>Age</th>\n",
       "    </tr>\n",
       "  </thead>\n",
       "  <tbody>\n",
       "    <tr>\n",
       "      <th>count</th>\n",
       "      <td>500.000000</td>\n",
       "      <td>500.000000</td>\n",
       "    </tr>\n",
       "    <tr>\n",
       "      <th>mean</th>\n",
       "      <td>199571.980000</td>\n",
       "      <td>41.566000</td>\n",
       "    </tr>\n",
       "    <tr>\n",
       "      <th>std</th>\n",
       "      <td>38203.386948</td>\n",
       "      <td>11.732389</td>\n",
       "    </tr>\n",
       "    <tr>\n",
       "      <th>min</th>\n",
       "      <td>11044.000000</td>\n",
       "      <td>14.000000</td>\n",
       "    </tr>\n",
       "    <tr>\n",
       "      <th>25%</th>\n",
       "      <td>192220.250000</td>\n",
       "      <td>32.000000</td>\n",
       "    </tr>\n",
       "    <tr>\n",
       "      <th>50%</th>\n",
       "      <td>197721.500000</td>\n",
       "      <td>41.000000</td>\n",
       "    </tr>\n",
       "    <tr>\n",
       "      <th>75%</th>\n",
       "      <td>222593.750000</td>\n",
       "      <td>50.000000</td>\n",
       "    </tr>\n",
       "    <tr>\n",
       "      <th>max</th>\n",
       "      <td>237278.000000</td>\n",
       "      <td>71.000000</td>\n",
       "    </tr>\n",
       "  </tbody>\n",
       "</table>\n",
       "</div>"
      ],
      "text/plain": [
       "           Client_ID         Age\n",
       "count     500.000000  500.000000\n",
       "mean   199571.980000   41.566000\n",
       "std     38203.386948   11.732389\n",
       "min     11044.000000   14.000000\n",
       "25%    192220.250000   32.000000\n",
       "50%    197721.500000   41.000000\n",
       "75%    222593.750000   50.000000\n",
       "max    237278.000000   71.000000"
      ]
     },
     "execution_count": 4,
     "metadata": {},
     "output_type": "execute_result"
    }
   ],
   "source": [
    "clients.describe()"
   ]
  },
  {
   "cell_type": "code",
   "execution_count": 5,
   "id": "8deb2e2d",
   "metadata": {},
   "outputs": [
    {
     "data": {
      "image/png": "[encoded data removed]",
      "text/plain": [
       "<Figure size 432x288 with 1 Axes>"
      ]
     },
     "metadata": {
      "needs_background": "light"
     },
     "output_type": "display_data"
    }
   ],
   "source": [
    "# Men and women are equally in the data set.\n",
    "\n",
    "sns.countplot(x='Gender', data=clients);\n",
    "plt.title('Distribution of Gender');\n",
    "\n"
   ]
  },
  {
   "cell_type": "code",
   "execution_count": 6,
   "id": "69e308d5",
   "metadata": {},
   "outputs": [
    {
     "data": {
      "image/png": "[encoded data removed]",
      "text/plain": [
       "<Figure size 432x288 with 1 Axes>"
      ]
     },
     "metadata": {
      "needs_background": "light"
     },
     "output_type": "display_data"
    }
   ],
   "source": [
    "# Age distribution histogram\n",
    "# Based on the data, clients between the ages of 20 and 60 are the most likely to open an account.\n",
    "\n",
    "clients.hist('Age', bins=35);\n",
    "plt.title('Distribution of Age');\n",
    "plt.xlabel('Age');"
   ]
  },
  {
   "cell_type": "code",
   "execution_count": 7,
   "id": "f1f6dc0b",
   "metadata": {},
   "outputs": [
    {
     "data": {
      "image/png": "[encoded data removed]",
      "text/plain": [
       "<Figure size 432x288 with 1 Axes>"
      ]
     },
     "metadata": {
      "needs_background": "light"
     },
     "output_type": "display_data"
    }
   ],
   "source": [
    "# Age histogram by gender\n",
    "#Based on the data set there are more women than men, aslo there are lot of men in the middle age.\n",
    "\n",
    "plt.hist('Age', data=clients[clients['Gender'] == 'MALE'], alpha=0.5, label='Male');\n",
    "plt.hist('Age', data=clients[clients['Gender'] == 'FEMALE'], alpha=0.5, label='Female');\n",
    "plt.title('Distribution of Age by Gender');\n",
    "plt.xlabel('Age');\n",
    "plt.legend();"
   ]
  },
  {
   "cell_type": "code",
   "execution_count": 8,
   "id": "cbb79547",
   "metadata": {},
   "outputs": [],
   "source": [
    "# Create data sets by gender\n",
    "male_clients = clients[clients['Gender'] == 'MALE']\n",
    "female_clients = clients[clients['Gender'] == 'FEMALE']"
   ]
  },
  {
   "cell_type": "code",
   "execution_count": 9,
   "id": "bcb81696",
   "metadata": {
    "scrolled": false
   },
   "outputs": [
    {
     "name": "stdout",
     "output_type": "stream",
     "text": [
      "39.452\n",
      "43.68\n"
     ]
    }
   ],
   "source": [
    "# Based on the data set , women open accounts at a slightly higher in 3 points than men.\n",
    "\n",
    "print(male_clients['Age'].mean())\n",
    "print(female_clients['Age'].mean())#\n"
   ]
  },
  {
   "cell_type": "code",
   "execution_count": null,
   "id": "8618f1b7",
   "metadata": {},
   "outputs": [],
   "source": []
  },
  {
   "cell_type": "code",
   "execution_count": 10,
   "id": "b9b62cdd",
   "metadata": {},
   "outputs": [
    {
     "data": {
      "image/png": "[encoded data removed]",
      "text/plain": [
       "<Figure size 432x288 with 2 Axes>"
      ]
     },
     "metadata": {
      "needs_background": "light"
     },
     "output_type": "display_data"
    }
   ],
   "source": [
    "sns.heatmap(female_clients.corr(), annot=True);\n",
    "plt.title('Correlation Heatmap - Female');"
   ]
  },
  {
   "cell_type": "code",
   "execution_count": 11,
   "id": "63bda107",
   "metadata": {},
   "outputs": [
    {
     "data": {
      "image/png": "[encoded data removed]",
      "text/plain": [
       "<Figure size 432x288 with 2 Axes>"
      ]
     },
     "metadata": {
      "needs_background": "light"
     },
     "output_type": "display_data"
    }
   ],
   "source": [
    "sns.heatmap(male_clients.corr(), annot=True);\n",
    "plt.title('Correlation Heatmap - Male');"
   ]
  },
  {
   "cell_type": "code",
   "execution_count": 12,
   "id": "d851f033",
   "metadata": {},
   "outputs": [],
   "source": [
    "#"
   ]
  }
 ],
 "metadata": {
  "kernelspec": {
   "display_name": "Python 3.10.5 64-bit",
   "language": "python",
   "name": "python3"
  },
  "language_info": {
   "codemirror_mode": {
    "name": "ipython",
    "version": 3
   },
   "file_extension": ".py",
   "mimetype": "text/x-python",
   "name": "python",
   "nbconvert_exporter": "python",
   "pygments_lexer": "ipython3",
   "version": "3.10.5"
  },
  "vscode": {
   "interpreter": {
    "hash": "efe8f3a3efa4682033e64d3e41d4b7d468c4903a06953821f3324aaccd1f53f9"
   }
  }
 },
 "nbformat": 4,
 "nbformat_minor": 5
}
